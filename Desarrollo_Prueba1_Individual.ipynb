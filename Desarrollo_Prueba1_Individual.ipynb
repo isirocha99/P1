{
  "nbformat": 4,
  "nbformat_minor": 0,
  "metadata": {
    "colab": {
      "name": "Desarrollo_Prueba1_Individual.ipynb",
      "provenance": [],
      "collapsed_sections": [
        "g0TpvXiJ6RN_"
      ]
    },
    "kernelspec": {
      "name": "python3",
      "display_name": "Python 3"
    },
    "language_info": {
      "name": "python"
    }
  },
  "cells": [
    {
      "cell_type": "markdown",
      "metadata": {
        "id": "BqzKM94Y3cTo"
      },
      "source": [
        "# Prueba 1\n",
        "Integrantes:\n",
        "-Vicente Caceres\n",
        "-Benjamin Hormazabal\n",
        "-Enzo Oyarce\n",
        "-Sebastian Puelma"
      ]
    },
    {
      "cell_type": "markdown",
      "metadata": {
        "id": "3E-rVur_31VD"
      },
      "source": [
        "#Visualizacion inicial de la data\n",
        "Tambien incluiremos el trabajo de la data en esta seccion.\n"
      ]
    },
    {
      "cell_type": "markdown",
      "metadata": {
        "id": "sjjalWAn3sLo"
      },
      "source": [
        ""
      ]
    },
    {
      "cell_type": "code",
      "metadata": {
        "id": "MqsAV6f52bcm"
      },
      "source": [
        "import pandas as pd\n",
        "import matplotlib.pyplot as plt\n",
        "import seaborn as sns\n",
        "import numpy as np"
      ],
      "execution_count": null,
      "outputs": []
    },
    {
      "cell_type": "code",
      "metadata": {
        "colab": {
          "base_uri": "https://localhost:8080/",
          "height": 301
        },
        "id": "j7gkd4Zf2sNS",
        "outputId": "79f9ab80-562f-40b8-a206-be30a46a97b3"
      },
      "source": [
        "df = pd.read_csv(\"BankData.csv\")\n",
        "df.head(5)"
      ],
      "execution_count": null,
      "outputs": [
        {
          "output_type": "execute_result",
          "data": {
            "text/html": [
              "<div>\n",
              "<style scoped>\n",
              "    .dataframe tbody tr th:only-of-type {\n",
              "        vertical-align: middle;\n",
              "    }\n",
              "\n",
              "    .dataframe tbody tr th {\n",
              "        vertical-align: top;\n",
              "    }\n",
              "\n",
              "    .dataframe thead th {\n",
              "        text-align: right;\n",
              "    }\n",
              "</style>\n",
              "<table border=\"1\" class=\"dataframe\">\n",
              "  <thead>\n",
              "    <tr style=\"text-align: right;\">\n",
              "      <th></th>\n",
              "      <th>CLIENTNUM</th>\n",
              "      <th>Attrition_Flag</th>\n",
              "      <th>Customer_Age</th>\n",
              "      <th>Gender</th>\n",
              "      <th>Dependent_count</th>\n",
              "      <th>Education_Level</th>\n",
              "      <th>Marital_Status</th>\n",
              "      <th>Income_Category</th>\n",
              "      <th>Card_Category</th>\n",
              "      <th>Months_on_book</th>\n",
              "      <th>Total_Relationship_Count</th>\n",
              "      <th>Months_Inactive_12_mon</th>\n",
              "      <th>Credit_Limit</th>\n",
              "      <th>Total_Revolving_Bal</th>\n",
              "      <th>Total_Trans_Amt</th>\n",
              "      <th>Total_Trans_Ct</th>\n",
              "    </tr>\n",
              "  </thead>\n",
              "  <tbody>\n",
              "    <tr>\n",
              "      <th>0</th>\n",
              "      <td>768805383</td>\n",
              "      <td>Existing Customer</td>\n",
              "      <td>45</td>\n",
              "      <td>M</td>\n",
              "      <td>3</td>\n",
              "      <td>High School</td>\n",
              "      <td>Married</td>\n",
              "      <td>$60K - $80K</td>\n",
              "      <td>Blue</td>\n",
              "      <td>39</td>\n",
              "      <td>5</td>\n",
              "      <td>1</td>\n",
              "      <td>12691.0</td>\n",
              "      <td>777</td>\n",
              "      <td>1144</td>\n",
              "      <td>42</td>\n",
              "    </tr>\n",
              "    <tr>\n",
              "      <th>1</th>\n",
              "      <td>818770008</td>\n",
              "      <td>Existing Customer</td>\n",
              "      <td>49</td>\n",
              "      <td>F</td>\n",
              "      <td>5</td>\n",
              "      <td>Graduate</td>\n",
              "      <td>Single</td>\n",
              "      <td>Less than $40K</td>\n",
              "      <td>Blue</td>\n",
              "      <td>44</td>\n",
              "      <td>6</td>\n",
              "      <td>1</td>\n",
              "      <td>8256.0</td>\n",
              "      <td>864</td>\n",
              "      <td>1291</td>\n",
              "      <td>33</td>\n",
              "    </tr>\n",
              "    <tr>\n",
              "      <th>2</th>\n",
              "      <td>713982108</td>\n",
              "      <td>Existing Customer</td>\n",
              "      <td>51</td>\n",
              "      <td>M</td>\n",
              "      <td>3</td>\n",
              "      <td>Graduate</td>\n",
              "      <td>Married</td>\n",
              "      <td>$80K - $120K</td>\n",
              "      <td>Blue</td>\n",
              "      <td>36</td>\n",
              "      <td>4</td>\n",
              "      <td>1</td>\n",
              "      <td>3418.0</td>\n",
              "      <td>0</td>\n",
              "      <td>1887</td>\n",
              "      <td>20</td>\n",
              "    </tr>\n",
              "    <tr>\n",
              "      <th>3</th>\n",
              "      <td>769911858</td>\n",
              "      <td>Existing Customer</td>\n",
              "      <td>40</td>\n",
              "      <td>F</td>\n",
              "      <td>4</td>\n",
              "      <td>High School</td>\n",
              "      <td>Unknown</td>\n",
              "      <td>Less than $40K</td>\n",
              "      <td>Blue</td>\n",
              "      <td>34</td>\n",
              "      <td>3</td>\n",
              "      <td>4</td>\n",
              "      <td>3313.0</td>\n",
              "      <td>2517</td>\n",
              "      <td>1171</td>\n",
              "      <td>20</td>\n",
              "    </tr>\n",
              "    <tr>\n",
              "      <th>4</th>\n",
              "      <td>709106358</td>\n",
              "      <td>Existing Customer</td>\n",
              "      <td>40</td>\n",
              "      <td>M</td>\n",
              "      <td>3</td>\n",
              "      <td>Uneducated</td>\n",
              "      <td>Married</td>\n",
              "      <td>$60K - $80K</td>\n",
              "      <td>Blue</td>\n",
              "      <td>21</td>\n",
              "      <td>5</td>\n",
              "      <td>1</td>\n",
              "      <td>4716.0</td>\n",
              "      <td>0</td>\n",
              "      <td>816</td>\n",
              "      <td>28</td>\n",
              "    </tr>\n",
              "  </tbody>\n",
              "</table>\n",
              "</div>"
            ],
            "text/plain": [
              "   CLIENTNUM     Attrition_Flag  ...  Total_Trans_Amt Total_Trans_Ct\n",
              "0  768805383  Existing Customer  ...             1144             42\n",
              "1  818770008  Existing Customer  ...             1291             33\n",
              "2  713982108  Existing Customer  ...             1887             20\n",
              "3  769911858  Existing Customer  ...             1171             20\n",
              "4  709106358  Existing Customer  ...              816             28\n",
              "\n",
              "[5 rows x 16 columns]"
            ]
          },
          "metadata": {},
          "execution_count": 3
        }
      ]
    },
    {
      "cell_type": "code",
      "metadata": {
        "colab": {
          "base_uri": "https://localhost:8080/",
          "height": 301
        },
        "id": "nB2ACR0z5I5d",
        "outputId": "1f0943af-1340-4d17-f1ab-5912b5020416"
      },
      "source": [
        "#Hicimos una columna con variable binaria para definir si el cliente esta o no en el banco.\n",
        "df.loc[df['Attrition_Flag'] == 'Existing Customer', 'Sigue_en_el_banco'] = 1\n",
        "df.loc[df['Attrition_Flag'] != 'Existing Customer', 'Sigue_en_el_banco'] = 0\n",
        "df.head(5) "
      ],
      "execution_count": null,
      "outputs": [
        {
          "output_type": "execute_result",
          "data": {
            "text/html": [
              "<div>\n",
              "<style scoped>\n",
              "    .dataframe tbody tr th:only-of-type {\n",
              "        vertical-align: middle;\n",
              "    }\n",
              "\n",
              "    .dataframe tbody tr th {\n",
              "        vertical-align: top;\n",
              "    }\n",
              "\n",
              "    .dataframe thead th {\n",
              "        text-align: right;\n",
              "    }\n",
              "</style>\n",
              "<table border=\"1\" class=\"dataframe\">\n",
              "  <thead>\n",
              "    <tr style=\"text-align: right;\">\n",
              "      <th></th>\n",
              "      <th>CLIENTNUM</th>\n",
              "      <th>Attrition_Flag</th>\n",
              "      <th>Customer_Age</th>\n",
              "      <th>Gender</th>\n",
              "      <th>Dependent_count</th>\n",
              "      <th>Education_Level</th>\n",
              "      <th>Marital_Status</th>\n",
              "      <th>Income_Category</th>\n",
              "      <th>Card_Category</th>\n",
              "      <th>Months_on_book</th>\n",
              "      <th>Total_Relationship_Count</th>\n",
              "      <th>Months_Inactive_12_mon</th>\n",
              "      <th>Credit_Limit</th>\n",
              "      <th>Total_Revolving_Bal</th>\n",
              "      <th>Total_Trans_Amt</th>\n",
              "      <th>Total_Trans_Ct</th>\n",
              "      <th>intervalos_presupuesto</th>\n",
              "      <th>Sigue_en_el_banco</th>\n",
              "    </tr>\n",
              "  </thead>\n",
              "  <tbody>\n",
              "    <tr>\n",
              "      <th>0</th>\n",
              "      <td>768805383</td>\n",
              "      <td>Existing Customer</td>\n",
              "      <td>45</td>\n",
              "      <td>M</td>\n",
              "      <td>3</td>\n",
              "      <td>High School</td>\n",
              "      <td>Married</td>\n",
              "      <td>$60K - $80K</td>\n",
              "      <td>Blue</td>\n",
              "      <td>39</td>\n",
              "      <td>5</td>\n",
              "      <td>1</td>\n",
              "      <td>12691.0</td>\n",
              "      <td>777</td>\n",
              "      <td>1144</td>\n",
              "      <td>42</td>\n",
              "      <td>(38.8, 43.1]</td>\n",
              "      <td>1.0</td>\n",
              "    </tr>\n",
              "    <tr>\n",
              "      <th>1</th>\n",
              "      <td>818770008</td>\n",
              "      <td>Existing Customer</td>\n",
              "      <td>49</td>\n",
              "      <td>F</td>\n",
              "      <td>5</td>\n",
              "      <td>Graduate</td>\n",
              "      <td>Single</td>\n",
              "      <td>Less than $40K</td>\n",
              "      <td>Blue</td>\n",
              "      <td>44</td>\n",
              "      <td>6</td>\n",
              "      <td>1</td>\n",
              "      <td>8256.0</td>\n",
              "      <td>864</td>\n",
              "      <td>1291</td>\n",
              "      <td>33</td>\n",
              "      <td>(43.1, 47.4]</td>\n",
              "      <td>1.0</td>\n",
              "    </tr>\n",
              "    <tr>\n",
              "      <th>2</th>\n",
              "      <td>713982108</td>\n",
              "      <td>Existing Customer</td>\n",
              "      <td>51</td>\n",
              "      <td>M</td>\n",
              "      <td>3</td>\n",
              "      <td>Graduate</td>\n",
              "      <td>Married</td>\n",
              "      <td>$80K - $120K</td>\n",
              "      <td>Blue</td>\n",
              "      <td>36</td>\n",
              "      <td>4</td>\n",
              "      <td>1</td>\n",
              "      <td>3418.0</td>\n",
              "      <td>0</td>\n",
              "      <td>1887</td>\n",
              "      <td>20</td>\n",
              "      <td>(34.5, 38.8]</td>\n",
              "      <td>1.0</td>\n",
              "    </tr>\n",
              "    <tr>\n",
              "      <th>3</th>\n",
              "      <td>769911858</td>\n",
              "      <td>Existing Customer</td>\n",
              "      <td>40</td>\n",
              "      <td>F</td>\n",
              "      <td>4</td>\n",
              "      <td>High School</td>\n",
              "      <td>Unknown</td>\n",
              "      <td>Less than $40K</td>\n",
              "      <td>Blue</td>\n",
              "      <td>34</td>\n",
              "      <td>3</td>\n",
              "      <td>4</td>\n",
              "      <td>3313.0</td>\n",
              "      <td>2517</td>\n",
              "      <td>1171</td>\n",
              "      <td>20</td>\n",
              "      <td>(30.2, 34.5]</td>\n",
              "      <td>1.0</td>\n",
              "    </tr>\n",
              "    <tr>\n",
              "      <th>4</th>\n",
              "      <td>709106358</td>\n",
              "      <td>Existing Customer</td>\n",
              "      <td>40</td>\n",
              "      <td>M</td>\n",
              "      <td>3</td>\n",
              "      <td>Uneducated</td>\n",
              "      <td>Married</td>\n",
              "      <td>$60K - $80K</td>\n",
              "      <td>Blue</td>\n",
              "      <td>21</td>\n",
              "      <td>5</td>\n",
              "      <td>1</td>\n",
              "      <td>4716.0</td>\n",
              "      <td>0</td>\n",
              "      <td>816</td>\n",
              "      <td>28</td>\n",
              "      <td>(17.3, 21.6]</td>\n",
              "      <td>1.0</td>\n",
              "    </tr>\n",
              "  </tbody>\n",
              "</table>\n",
              "</div>"
            ],
            "text/plain": [
              "   CLIENTNUM     Attrition_Flag  ...  intervalos_presupuesto Sigue_en_el_banco\n",
              "0  768805383  Existing Customer  ...            (38.8, 43.1]               1.0\n",
              "1  818770008  Existing Customer  ...            (43.1, 47.4]               1.0\n",
              "2  713982108  Existing Customer  ...            (34.5, 38.8]               1.0\n",
              "3  769911858  Existing Customer  ...            (30.2, 34.5]               1.0\n",
              "4  709106358  Existing Customer  ...            (17.3, 21.6]               1.0\n",
              "\n",
              "[5 rows x 18 columns]"
            ]
          },
          "metadata": {},
          "execution_count": 57
        }
      ]
    },
    {
      "cell_type": "code",
      "metadata": {
        "colab": {
          "base_uri": "https://localhost:8080/",
          "height": 310
        },
        "id": "1AjUCv1A2sjI",
        "outputId": "cc8be701-7677-4e8c-db13-b40ddb8b30b6"
      },
      "source": [
        "df.describe()\n"
      ],
      "execution_count": null,
      "outputs": [
        {
          "output_type": "execute_result",
          "data": {
            "text/html": [
              "<div>\n",
              "<style scoped>\n",
              "    .dataframe tbody tr th:only-of-type {\n",
              "        vertical-align: middle;\n",
              "    }\n",
              "\n",
              "    .dataframe tbody tr th {\n",
              "        vertical-align: top;\n",
              "    }\n",
              "\n",
              "    .dataframe thead th {\n",
              "        text-align: right;\n",
              "    }\n",
              "</style>\n",
              "<table border=\"1\" class=\"dataframe\">\n",
              "  <thead>\n",
              "    <tr style=\"text-align: right;\">\n",
              "      <th></th>\n",
              "      <th>CLIENTNUM</th>\n",
              "      <th>Customer_Age</th>\n",
              "      <th>Dependent_count</th>\n",
              "      <th>Months_on_book</th>\n",
              "      <th>Total_Relationship_Count</th>\n",
              "      <th>Months_Inactive_12_mon</th>\n",
              "      <th>Credit_Limit</th>\n",
              "      <th>Total_Revolving_Bal</th>\n",
              "      <th>Total_Trans_Amt</th>\n",
              "      <th>Total_Trans_Ct</th>\n",
              "    </tr>\n",
              "  </thead>\n",
              "  <tbody>\n",
              "    <tr>\n",
              "      <th>count</th>\n",
              "      <td>1.012700e+04</td>\n",
              "      <td>10127.000000</td>\n",
              "      <td>10127.000000</td>\n",
              "      <td>10127.000000</td>\n",
              "      <td>10127.000000</td>\n",
              "      <td>10127.000000</td>\n",
              "      <td>10127.000000</td>\n",
              "      <td>10127.000000</td>\n",
              "      <td>10127.000000</td>\n",
              "      <td>10127.000000</td>\n",
              "    </tr>\n",
              "    <tr>\n",
              "      <th>mean</th>\n",
              "      <td>7.391776e+08</td>\n",
              "      <td>46.325960</td>\n",
              "      <td>2.346203</td>\n",
              "      <td>35.928409</td>\n",
              "      <td>3.812580</td>\n",
              "      <td>2.341167</td>\n",
              "      <td>8631.953698</td>\n",
              "      <td>1162.814061</td>\n",
              "      <td>4404.086304</td>\n",
              "      <td>64.858695</td>\n",
              "    </tr>\n",
              "    <tr>\n",
              "      <th>std</th>\n",
              "      <td>3.690378e+07</td>\n",
              "      <td>8.016814</td>\n",
              "      <td>1.298908</td>\n",
              "      <td>7.986416</td>\n",
              "      <td>1.554408</td>\n",
              "      <td>1.010622</td>\n",
              "      <td>9088.776650</td>\n",
              "      <td>814.987335</td>\n",
              "      <td>3397.129254</td>\n",
              "      <td>23.472570</td>\n",
              "    </tr>\n",
              "    <tr>\n",
              "      <th>min</th>\n",
              "      <td>7.080821e+08</td>\n",
              "      <td>26.000000</td>\n",
              "      <td>0.000000</td>\n",
              "      <td>13.000000</td>\n",
              "      <td>1.000000</td>\n",
              "      <td>0.000000</td>\n",
              "      <td>1438.300000</td>\n",
              "      <td>0.000000</td>\n",
              "      <td>510.000000</td>\n",
              "      <td>10.000000</td>\n",
              "    </tr>\n",
              "    <tr>\n",
              "      <th>25%</th>\n",
              "      <td>7.130368e+08</td>\n",
              "      <td>41.000000</td>\n",
              "      <td>1.000000</td>\n",
              "      <td>31.000000</td>\n",
              "      <td>3.000000</td>\n",
              "      <td>2.000000</td>\n",
              "      <td>2555.000000</td>\n",
              "      <td>359.000000</td>\n",
              "      <td>2155.500000</td>\n",
              "      <td>45.000000</td>\n",
              "    </tr>\n",
              "    <tr>\n",
              "      <th>50%</th>\n",
              "      <td>7.179264e+08</td>\n",
              "      <td>46.000000</td>\n",
              "      <td>2.000000</td>\n",
              "      <td>36.000000</td>\n",
              "      <td>4.000000</td>\n",
              "      <td>2.000000</td>\n",
              "      <td>4549.000000</td>\n",
              "      <td>1276.000000</td>\n",
              "      <td>3899.000000</td>\n",
              "      <td>67.000000</td>\n",
              "    </tr>\n",
              "    <tr>\n",
              "      <th>75%</th>\n",
              "      <td>7.731435e+08</td>\n",
              "      <td>52.000000</td>\n",
              "      <td>3.000000</td>\n",
              "      <td>40.000000</td>\n",
              "      <td>5.000000</td>\n",
              "      <td>3.000000</td>\n",
              "      <td>11067.500000</td>\n",
              "      <td>1784.000000</td>\n",
              "      <td>4741.000000</td>\n",
              "      <td>81.000000</td>\n",
              "    </tr>\n",
              "    <tr>\n",
              "      <th>max</th>\n",
              "      <td>8.283431e+08</td>\n",
              "      <td>73.000000</td>\n",
              "      <td>5.000000</td>\n",
              "      <td>56.000000</td>\n",
              "      <td>6.000000</td>\n",
              "      <td>6.000000</td>\n",
              "      <td>34516.000000</td>\n",
              "      <td>2517.000000</td>\n",
              "      <td>18484.000000</td>\n",
              "      <td>139.000000</td>\n",
              "    </tr>\n",
              "  </tbody>\n",
              "</table>\n",
              "</div>"
            ],
            "text/plain": [
              "          CLIENTNUM  Customer_Age  ...  Total_Trans_Amt  Total_Trans_Ct\n",
              "count  1.012700e+04  10127.000000  ...     10127.000000    10127.000000\n",
              "mean   7.391776e+08     46.325960  ...      4404.086304       64.858695\n",
              "std    3.690378e+07      8.016814  ...      3397.129254       23.472570\n",
              "min    7.080821e+08     26.000000  ...       510.000000       10.000000\n",
              "25%    7.130368e+08     41.000000  ...      2155.500000       45.000000\n",
              "50%    7.179264e+08     46.000000  ...      3899.000000       67.000000\n",
              "75%    7.731435e+08     52.000000  ...      4741.000000       81.000000\n",
              "max    8.283431e+08     73.000000  ...     18484.000000      139.000000\n",
              "\n",
              "[8 rows x 10 columns]"
            ]
          },
          "metadata": {},
          "execution_count": 3
        }
      ]
    },
    {
      "cell_type": "code",
      "metadata": {
        "colab": {
          "base_uri": "https://localhost:8080/"
        },
        "id": "mJ0tLPR02_Mh",
        "outputId": "ca7fc552-5d10-4fb0-e791-27c61c5aea56"
      },
      "source": [
        "df.dtypes"
      ],
      "execution_count": null,
      "outputs": [
        {
          "output_type": "execute_result",
          "data": {
            "text/plain": [
              "CLIENTNUM                     int64\n",
              "Attrition_Flag               object\n",
              "Customer_Age                  int64\n",
              "Gender                       object\n",
              "Dependent_count               int64\n",
              "Education_Level              object\n",
              "Marital_Status               object\n",
              "Income_Category              object\n",
              "Card_Category                object\n",
              "Months_on_book                int64\n",
              "Total_Relationship_Count      int64\n",
              "Months_Inactive_12_mon        int64\n",
              "Credit_Limit                float64\n",
              "Total_Revolving_Bal           int64\n",
              "Total_Trans_Amt               int64\n",
              "Total_Trans_Ct                int64\n",
              "Sigue_en_el_banco           float64\n",
              "dtype: object"
            ]
          },
          "metadata": {},
          "execution_count": 5
        }
      ]
    },
    {
      "cell_type": "markdown",
      "metadata": {
        "id": "g0TpvXiJ6RN_"
      },
      "source": [
        "# Parte A\n",
        "\n",
        "\n",
        "\n",
        "\n",
        "\n",
        "\n"
      ]
    },
    {
      "cell_type": "markdown",
      "metadata": {
        "id": "324r_jEUNrxD"
      },
      "source": [
        "\n",
        "1.  Attrition_Flag: Cualitativa Nominal, debido a que clasifica en una variable binaria no ordinal a los clientes    \n",
        "\n",
        "2.  Customer_Age: Cuantitativa Discreta, debido a que cuantifica las edades de los clientes, y ademas, esta cuantificacion no puede tener valores intermedios, son enteros.\n",
        "\n",
        "3.  Gender: Cualitativa Nominal, debido a que ordena los datos en 2 clasificaciones, es decir, en una variable binaria no ordinal.\n",
        "\n",
        "4.  Dependent_count: Cuantitativa Discreta, ya que nos muestra cuantas personas dependen del usuario del banco, lo que es un valor obligatoriamente entero.\n",
        "\n",
        "5.  Education_Level: Cualitativa Ordinal, ya que ordena a sus clientes respecto a su nivel de educacion.\n",
        "\n",
        "6.  Marital_Status: Cualitativa Nominal, debido a que clasifica sin orden a sus clientes dependiendo de su estado civil.\n",
        "\n",
        "7.  Income_Category: Cualitativa ordinal, ya que ordena por categorias de ingresos economicos a sus clientes.\n",
        "\n",
        "8.  Card_Category: Cualitativa Nominal, el tipo de tarjeta no tiene aparente relacion con el ingreso economico,\n",
        "\n",
        "9.  Months_on_book: Cuantitavida Discreta, muestra la cantidad de meses que el cliente lleva en el banco.\n",
        "\n",
        "10. Total_Relationship_Count: Cuantitativa Discreta, muestra la cantidad de productos que tiene el cliente en el banco.    \n",
        "\n",
        "11. Months_Inactive_12_mon: Cuantitativa Discreta, muestra la cantidad de meses ,en magnitud de 12 meses por conteo, que el cliente lleva inactivo en el banco.\n",
        "\n",
        "12. Credit_Limit: Cuantitativa Continua, nos muestra el valor limite que puede tomar el credito de un cliente del banco, valor que no necesariamente sera entero.      \n",
        "\n",
        "13. Total_Revolving_Bal: Cuantitativa Discreta, nos muestra la cantidad del cupo utilizado que aun no ha pagado el cliente. Su comportamiento en la grafica se puede apreciar de forma continua.\n",
        "\n",
        "\n",
        "14. Total_Trans_Amt: Cuantitativa Discreta, nos muestra el monto de todas las transacciones del cliente en los ultimos 12 meses. Esta variable puede verse de forma continua graficamente.\n",
        "\n",
        "15. Total_Trans_Ct: Cuantitativa Discreta, nos muestra la cantidad de transacciones totales realizo el cliente. Sin embargo, su comportamiento en la grafica se puede apreciar de forma continua.\n",
        "\n",
        "16. Sigue_en_el_banco: variable binaria creada para clasificar a los clientes segun su estadia en el banco, es una variable cualitativa nominal."
      ]
    },
    {
      "cell_type": "markdown",
      "metadata": {
        "id": "X5R1E5U34gH_"
      },
      "source": [
        "primero debes describir cada una de las variables de los datos adquiridos, excepto el identificador del cliente. Debes partir por señalar el tipo de variable, entre categórica nominal, categórica ordinal o numérica. Luego, debes analizar la distribución de cada una de estas variables para finalmente señalar cualquier aspecto relevante basado en la distribución observada. En caso que no detecte algún aspecto relevante, justifíquelo. "
      ]
    },
    {
      "cell_type": "markdown",
      "metadata": {
        "id": "6s1euRrfIev3"
      },
      "source": [
        "#Parte B\n",
        "-\t¿Cómo distribuye la edad de clientes que abandonan vs los que no abandonan? \n",
        "-\t¿La relación entre el cupo total y el cupo por pagar es distinta en clientes que abandonan vs clientes que no abandonan?\n",
        "-\t¿Cómo distribuyen los montos de las transacciones para clientas que abandonan vs clientes que no abandonan?\n"
      ]
    },
    {
      "cell_type": "code",
      "metadata": {
        "colab": {
          "base_uri": "https://localhost:8080/",
          "height": 270
        },
        "id": "3nGY2fvEPqM-",
        "outputId": "ffa95131-3ca8-4ecb-ebaa-b632359bb8a0"
      },
      "source": [
        "# taking all rows but only 6 columns\n",
        "correlation_mat = df[['Customer_Age','Dependent_count','Months_on_book']].corr()\n",
        "sns.heatmap(correlation_mat, annot = True)\n",
        "plt.show()\n",
        "# Relacion entre Edad de los clientes y los meses que llevan en el banco, indica que sus clientes en su mayoria tienen fidelidad y antiguedad con el banco, siendo captados en temprana edad"
      ],
      "execution_count": null,
      "outputs": [
        {
          "output_type": "display_data",
          "data": {
            "image/png": "[encoded data removed]",
            "text/plain": [
              "<Figure size 432x288 with 2 Axes>"
            ]
          },
          "metadata": {
            "needs_background": "light"
          }
        }
      ]
    },
    {
      "cell_type": "code",
      "metadata": {
        "id": "2fpUPQvNTneg"
      },
      "source": [
        "eliminar0 = df['Sigue_en_el_banco'] == 1\n",
        "eliminar1 = df['Sigue_en_el_banco'] == 0\n",
        "df_fuera_banco = df[eliminar1]\n",
        "df_sigue_banco = df[eliminar0]\n"
      ],
      "execution_count": null,
      "outputs": []
    },
    {
      "cell_type": "code",
      "metadata": {
        "id": "ZfORWVBJKLs_",
        "colab": {
          "base_uri": "https://localhost:8080/",
          "height": 278
        },
        "outputId": "b9ef9450-e3b5-4294-fbc2-83956888eaba"
      },
      "source": [
        "#analizar la distribución de cada una de estas variables\n",
        "ax = sns.countplot(x=\"Gender\", data=df)"
      ],
      "execution_count": null,
      "outputs": [
        {
          "output_type": "display_data",
          "data": {
            "image/png": "[encoded data removed]",
            "text/plain": [
              "<Figure size 432x288 with 1 Axes>"
            ]
          },
          "metadata": {
            "needs_background": "light"
          }
        }
      ]
    },
    {
      "cell_type": "code",
      "metadata": {
        "colab": {
          "base_uri": "https://localhost:8080/",
          "height": 372
        },
        "id": "RaD6A9ZXoSOs",
        "outputId": "5cf96c95-7734-4b1d-a51f-037e3a0fb00d"
      },
      "source": [
        "\n",
        "# Gráfico de tarta de genero en clientes\n",
        "plot = df['Gender'].value_counts().plot(kind='pie', autopct='%.2f', \n",
        "                                            figsize=(6, 6),\n",
        "                                            title='Gráfico para Género en clientes')"
      ],
      "execution_count": null,
      "outputs": [
        {
          "output_type": "display_data",
          "data": {
            "image/png": "[encoded data removed]",
            "text/plain": [
              "<Figure size 432x432 with 1 Axes>"
            ]
          },
          "metadata": {}
        }
      ]
    },
    {
      "cell_type": "code",
      "metadata": {
        "colab": {
          "base_uri": "https://localhost:8080/"
        },
        "id": "33gmpVQwu2Hv",
        "outputId": "57d92a1e-21c0-43c4-b62b-ada8bca7cc1f"
      },
      "source": [
        "pd.value_counts(df['Card_Category'])"
      ],
      "execution_count": null,
      "outputs": [
        {
          "output_type": "execute_result",
          "data": {
            "text/plain": [
              "Blue        9436\n",
              "Silver       555\n",
              "Gold         116\n",
              "Platinum      20\n",
              "Name: Card_Category, dtype: int64"
            ]
          },
          "metadata": {},
          "execution_count": 29
        }
      ]
    },
    {
      "cell_type": "code",
      "metadata": {
        "colab": {
          "base_uri": "https://localhost:8080/",
          "height": 280
        },
        "id": "0E4Brui51D1g",
        "outputId": "6b1c5c90-d4b1-4c62-c79c-d4d0b9f790a3"
      },
      "source": [
        "#Credit_Limit\n",
        "ax = sns.boxplot(x=df[\"Credit_Limit\"])\n"
      ],
      "execution_count": null,
      "outputs": [
        {
          "output_type": "display_data",
          "data": {
            "image/png": "[encoded data removed]",
            "text/plain": [
              "<Figure size 432x288 with 1 Axes>"
            ]
          },
          "metadata": {
            "needs_background": "light"
          }
        }
      ]
    },
    {
      "cell_type": "code",
      "metadata": {
        "colab": {
          "base_uri": "https://localhost:8080/",
          "height": 280
        },
        "id": "5cy2Gy814tk1",
        "outputId": "4495dfb3-549c-4efd-d46e-74c355562657"
      },
      "source": [
        "#Total_Trans_Amt\n",
        "ax = sns.boxplot(x=df[\"Total_Trans_Amt\"],color=\"green\")\n"
      ],
      "execution_count": null,
      "outputs": [
        {
          "output_type": "display_data",
          "data": {
            "image/png": "[encoded data removed]",
            "text/plain": [
              "<Figure size 432x288 with 1 Axes>"
            ]
          },
          "metadata": {
            "needs_background": "light"
          }
        }
      ]
    },
    {
      "cell_type": "code",
      "metadata": {
        "colab": {
          "base_uri": "https://localhost:8080/",
          "height": 296
        },
        "id": "FjhlRCXq5SU0",
        "outputId": "92241fe9-bc19-4504-b4a2-f9503b6d3935"
      },
      "source": [
        "sns.violinplot(x=df[\"Total_Trans_Amt\"], color=\"green\")"
      ],
      "execution_count": null,
      "outputs": [
        {
          "output_type": "execute_result",
          "data": {
            "text/plain": [
              "<matplotlib.axes._subplots.AxesSubplot at 0x7f537be98910>"
            ]
          },
          "metadata": {},
          "execution_count": 51
        },
        {
          "output_type": "display_data",
          "data": {
            "image/png": "[encoded data removed]",
            "text/plain": [
              "<Figure size 432x288 with 1 Axes>"
            ]
          },
          "metadata": {
            "needs_background": "light"
          }
        }
      ]
    },
    {
      "cell_type": "code",
      "metadata": {
        "colab": {
          "base_uri": "https://localhost:8080/",
          "height": 278
        },
        "id": "BGatuJTes2zg",
        "outputId": "d20b2960-49d5-45f4-a000-68e626fea17d"
      },
      "source": [
        "ax = sns.countplot(x=\"Gender\", hue=\"Attrition_Flag\", data=df)\n"
      ],
      "execution_count": null,
      "outputs": [
        {
          "output_type": "display_data",
          "data": {
            "image/png": "[encoded data removed]",
            "text/plain": [
              "<Figure size 432x288 with 1 Axes>"
            ]
          },
          "metadata": {
            "needs_background": "light"
          }
        }
      ]
    },
    {
      "cell_type": "code",
      "metadata": {
        "colab": {
          "base_uri": "https://localhost:8080/",
          "height": 280
        },
        "id": "nXI-6pnTEMsB",
        "outputId": "2e3ace3d-3184-4cef-9491-89593b8fd10b"
      },
      "source": [
        "ax = sns.countplot(x=\"Attrition_Flag\", hue=\"Gender\", data=df)\n"
      ],
      "execution_count": null,
      "outputs": [
        {
          "output_type": "display_data",
          "data": {
            "image/png": "[encoded data removed]",
            "text/plain": [
              "<Figure size 432x288 with 1 Axes>"
            ]
          },
          "metadata": {
            "needs_background": "light"
          }
        }
      ]
    },
    {
      "cell_type": "code",
      "metadata": {
        "colab": {
          "base_uri": "https://localhost:8080/",
          "height": 295
        },
        "id": "ThVJWkolCxFc",
        "outputId": "d66f7dce-0dde-4e23-ed54-549492c2182a"
      },
      "source": [
        "df2 = df[(df[\"Attrition_Flag\"] == \"Existing Customer\") | (df[\"Attrition_Flag\"] == \"Attrited Customer\")]\n",
        "sns.histplot(data= df, x=\"Customer_Age\", hue=\"Attrition_Flag\", stat=\"count\").set_xlabel(\"Edad del cliente\")\n"
      ],
      "execution_count": null,
      "outputs": [
        {
          "output_type": "execute_result",
          "data": {
            "text/plain": [
              "Text(0.5, 0, 'Edad del cliente')"
            ]
          },
          "metadata": {},
          "execution_count": 62
        },
        {
          "output_type": "display_data",
          "data": {
            "image/png": "[encoded data removed]",
            "text/plain": [
              "<Figure size 432x288 with 1 Axes>"
            ]
          },
          "metadata": {
            "needs_background": "light"
          }
        }
      ]
    },
    {
      "cell_type": "code",
      "metadata": {
        "colab": {
          "base_uri": "https://localhost:8080/",
          "height": 280
        },
        "id": "DSLP1j_KDCHO",
        "outputId": "aba84dd4-d6b0-4ef1-8e23-89e465711b9f"
      },
      "source": [
        "ax = sns.boxplot(x=df[\"Attrition_Flag\"], y=df[\"Customer_Age\"], width=0.4, showmeans=True,meanprops={\"marker\": \"+\", \n",
        "                       \"markeredgecolor\": \"black\", \n",
        "                       \"markersize\": \"10\"})"
      ],
      "execution_count": null,
      "outputs": [
        {
          "output_type": "display_data",
          "data": {
            "image/png": "[encoded data removed]",
            "text/plain": [
              "<Figure size 432x288 with 1 Axes>"
            ]
          },
          "metadata": {
            "needs_background": "light"
          }
        }
      ]
    },
    {
      "cell_type": "code",
      "metadata": {
        "colab": {
          "base_uri": "https://localhost:8080/",
          "height": 296
        },
        "id": "oaXR58uHNzWC",
        "outputId": "5eace69c-546c-4ad9-b296-382f27040532"
      },
      "source": [
        "df5 = df[(df[\"Attrition_Flag\"] == \"Existing Customer\") | (df[\"Attrition_Flag\"] == \"Attrition Customer\")]\n",
        "sns.histplot(data= df, x=\"Total_Trans_Ct\", hue=\"Attrition_Flag\", stat=\"count\")\n",
        "#set_xlabel(\"\")"
      ],
      "execution_count": null,
      "outputs": [
        {
          "output_type": "execute_result",
          "data": {
            "text/plain": [
              "<matplotlib.axes._subplots.AxesSubplot at 0x7f7323cc94d0>"
            ]
          },
          "metadata": {},
          "execution_count": 52
        },
        {
          "output_type": "display_data",
          "data": {
            "image/png": "[encoded data removed]",
            "text/plain": [
              "<Figure size 432x288 with 1 Axes>"
            ]
          },
          "metadata": {
            "needs_background": "light"
          }
        }
      ]
    },
    {
      "cell_type": "code",
      "metadata": {
        "colab": {
          "base_uri": "https://localhost:8080/",
          "height": 280
        },
        "id": "582v0Xs3-_OL",
        "outputId": "2e7810b2-52d7-4315-fb94-8a7118268a44"
      },
      "source": [
        "ax = sns.boxplot(x=df[\"Attrition_Flag\"], y=df[\"Total_Trans_Ct\"], width=0.4, showmeans=True)"
      ],
      "execution_count": null,
      "outputs": [
        {
          "output_type": "display_data",
          "data": {
            "image/png": "[encoded data removed]",
            "text/plain": [
              "<Figure size 432x288 with 1 Axes>"
            ]
          },
          "metadata": {
            "needs_background": "light"
          }
        }
      ]
    },
    {
      "cell_type": "code",
      "metadata": {
        "colab": {
          "base_uri": "https://localhost:8080/"
        },
        "id": "mXA-gbcLqjTn",
        "outputId": "8fdb303e-3399-4953-9a57-e56817f6d8ac"
      },
      "source": [
        "df['Total_Trans_Ct'].describe()"
      ],
      "execution_count": null,
      "outputs": [
        {
          "output_type": "execute_result",
          "data": {
            "text/plain": [
              "count    10127.000000\n",
              "mean        64.858695\n",
              "std         23.472570\n",
              "min         10.000000\n",
              "25%         45.000000\n",
              "50%         67.000000\n",
              "75%         81.000000\n",
              "max        139.000000\n",
              "Name: Total_Trans_Ct, dtype: float64"
            ]
          },
          "metadata": {},
          "execution_count": 56
        }
      ]
    },
    {
      "cell_type": "code",
      "metadata": {
        "colab": {
          "base_uri": "https://localhost:8080/",
          "height": 295
        },
        "id": "xhFyn_SL78mc",
        "outputId": "e83c71d0-9da8-453d-a76e-a998a49a1b13"
      },
      "source": [
        "df4 = df[(df[\"Attrition_Flag\"] == \"Existing Customer\") | (df[\"Attrition_Flag\"] == \"Attrited Customer\")]\n",
        "sns.histplot(data= df, x=\"Total_Trans_Amt\", hue=\"Attrition_Flag\", stat=\"count\").set_xlabel(\"Monto de todas las transacciones del cliente en los últimos 12 meses\")"
      ],
      "execution_count": null,
      "outputs": [
        {
          "output_type": "execute_result",
          "data": {
            "text/plain": [
              "Text(0.5, 0, 'Monto de todas las transacciones del cliente en los últimos 12 meses')"
            ]
          },
          "metadata": {},
          "execution_count": 57
        },
        {
          "output_type": "display_data",
          "data": {
            "image/png": "[encoded data removed]",
            "text/plain": [
              "<Figure size 432x288 with 1 Axes>"
            ]
          },
          "metadata": {
            "needs_background": "light"
          }
        }
      ]
    },
    {
      "cell_type": "code",
      "metadata": {
        "colab": {
          "base_uri": "https://localhost:8080/",
          "height": 280
        },
        "id": "y28iOqhs9J4W",
        "outputId": "466d92a1-3392-45d2-a67e-9258d56ac06c"
      },
      "source": [
        "ax = sns.boxplot(x=df[\"Attrition_Flag\"], y=df[\"Total_Trans_Amt\"], width=0.4, showmeans=True)"
      ],
      "execution_count": null,
      "outputs": [
        {
          "output_type": "display_data",
          "data": {
            "image/png": "[encoded data removed]",
            "text/plain": [
              "<Figure size 432x288 with 1 Axes>"
            ]
          },
          "metadata": {
            "needs_background": "light"
          }
        }
      ]
    },
    {
      "cell_type": "code",
      "metadata": {
        "colab": {
          "base_uri": "https://localhost:8080/"
        },
        "id": "8nktA1Lw7-R-",
        "outputId": "210fa154-fe4f-4059-96ae-b0c299c807ed"
      },
      "source": [
        "df['Total_Trans_Amt'].describe()\n"
      ],
      "execution_count": null,
      "outputs": [
        {
          "output_type": "execute_result",
          "data": {
            "text/plain": [
              "count    10127.000000\n",
              "mean      4404.086304\n",
              "std       3397.129254\n",
              "min        510.000000\n",
              "25%       2155.500000\n",
              "50%       3899.000000\n",
              "75%       4741.000000\n",
              "max      18484.000000\n",
              "Name: Total_Trans_Amt, dtype: float64"
            ]
          },
          "metadata": {},
          "execution_count": 58
        }
      ]
    },
    {
      "cell_type": "code",
      "metadata": {
        "colab": {
          "base_uri": "https://localhost:8080/"
        },
        "id": "RouB5as21Jci",
        "outputId": "3a689cb1-1cb3-4bf8-f469-8e98e693e5d1"
      },
      "source": [
        "df['Gender'].describe()\n"
      ],
      "execution_count": null,
      "outputs": [
        {
          "output_type": "execute_result",
          "data": {
            "text/plain": [
              "count     10127\n",
              "unique        2\n",
              "top           F\n",
              "freq       5358\n",
              "Name: Gender, dtype: object"
            ]
          },
          "metadata": {},
          "execution_count": 10
        }
      ]
    },
    {
      "cell_type": "code",
      "metadata": {
        "colab": {
          "base_uri": "https://localhost:8080/",
          "height": 145
        },
        "id": "Bmk0W8vs8ymO",
        "outputId": "f98ca2ce-49ef-494d-f099-d75eda9e4012"
      },
      "source": [
        "df_dummies = pd.get_dummies(df['Attrition_Flag'])\n",
        "del df_dummies[df_dummies.columns[-1]]\n",
        "df_new = pd.concat([df, df_dummies], axis=1)\n",
        "del df_new['Attrition_Flag']\n",
        "df_new.head(2)\n"
      ],
      "execution_count": null,
      "outputs": [
        {
          "output_type": "execute_result",
          "data": {
            "text/html": [
              "<div>\n",
              "<style scoped>\n",
              "    .dataframe tbody tr th:only-of-type {\n",
              "        vertical-align: middle;\n",
              "    }\n",
              "\n",
              "    .dataframe tbody tr th {\n",
              "        vertical-align: top;\n",
              "    }\n",
              "\n",
              "    .dataframe thead th {\n",
              "        text-align: right;\n",
              "    }\n",
              "</style>\n",
              "<table border=\"1\" class=\"dataframe\">\n",
              "  <thead>\n",
              "    <tr style=\"text-align: right;\">\n",
              "      <th></th>\n",
              "      <th>CLIENTNUM</th>\n",
              "      <th>Customer_Age</th>\n",
              "      <th>Gender</th>\n",
              "      <th>Dependent_count</th>\n",
              "      <th>Education_Level</th>\n",
              "      <th>Marital_Status</th>\n",
              "      <th>Income_Category</th>\n",
              "      <th>Card_Category</th>\n",
              "      <th>Months_on_book</th>\n",
              "      <th>Total_Relationship_Count</th>\n",
              "      <th>Months_Inactive_12_mon</th>\n",
              "      <th>Credit_Limit</th>\n",
              "      <th>Total_Revolving_Bal</th>\n",
              "      <th>Total_Trans_Amt</th>\n",
              "      <th>Total_Trans_Ct</th>\n",
              "      <th>Attrited Customer</th>\n",
              "    </tr>\n",
              "  </thead>\n",
              "  <tbody>\n",
              "    <tr>\n",
              "      <th>0</th>\n",
              "      <td>768805383</td>\n",
              "      <td>45</td>\n",
              "      <td>M</td>\n",
              "      <td>3</td>\n",
              "      <td>High School</td>\n",
              "      <td>Married</td>\n",
              "      <td>$60K - $80K</td>\n",
              "      <td>Blue</td>\n",
              "      <td>39</td>\n",
              "      <td>5</td>\n",
              "      <td>1</td>\n",
              "      <td>12691.0</td>\n",
              "      <td>777</td>\n",
              "      <td>1144</td>\n",
              "      <td>42</td>\n",
              "      <td>0</td>\n",
              "    </tr>\n",
              "    <tr>\n",
              "      <th>1</th>\n",
              "      <td>818770008</td>\n",
              "      <td>49</td>\n",
              "      <td>F</td>\n",
              "      <td>5</td>\n",
              "      <td>Graduate</td>\n",
              "      <td>Single</td>\n",
              "      <td>Less than $40K</td>\n",
              "      <td>Blue</td>\n",
              "      <td>44</td>\n",
              "      <td>6</td>\n",
              "      <td>1</td>\n",
              "      <td>8256.0</td>\n",
              "      <td>864</td>\n",
              "      <td>1291</td>\n",
              "      <td>33</td>\n",
              "      <td>0</td>\n",
              "    </tr>\n",
              "  </tbody>\n",
              "</table>\n",
              "</div>"
            ],
            "text/plain": [
              "   CLIENTNUM  Customer_Age  ... Total_Trans_Ct  Attrited Customer\n",
              "0  768805383            45  ...             42                  0\n",
              "1  818770008            49  ...             33                  0\n",
              "\n",
              "[2 rows x 16 columns]"
            ]
          },
          "metadata": {},
          "execution_count": 17
        }
      ]
    },
    {
      "cell_type": "code",
      "metadata": {
        "id": "NmYEqJCl-Wii"
      },
      "source": [
        "x = df_new[['Total_Revolving_Bal', 'Credit_Limit', 'Attrited Customer', 'Total_Trans_Amt']]"
      ],
      "execution_count": null,
      "outputs": []
    },
    {
      "cell_type": "code",
      "metadata": {
        "colab": {
          "base_uri": "https://localhost:8080/"
        },
        "id": "DD_9iQaV-rlj",
        "outputId": "65c6ce33-6eff-4767-c46e-79729c47684f"
      },
      "source": [
        "#Intento de hacer una matriz de correlaciones pero no fue útil\n",
        "correlation_matrix = np.corrcoef(x.T)\n",
        "print(correlation_matrix)"
      ],
      "execution_count": null,
      "outputs": [
        {
          "output_type": "stream",
          "name": "stdout",
          "text": [
            "[[ 1.          0.04249261 -0.26305288  0.06437048]\n",
            " [ 0.04249261  1.         -0.02387299  0.17173015]\n",
            " [-0.26305288 -0.02387299  1.         -0.16859838]\n",
            " [ 0.06437048  0.17173015 -0.16859838  1.        ]]\n"
          ]
        }
      ]
    },
    {
      "cell_type": "code",
      "metadata": {
        "colab": {
          "base_uri": "https://localhost:8080/"
        },
        "id": "7iHcZrPnDoi1",
        "outputId": "4e7a2cfc-92ef-404e-fb4f-a2d3b588d45a"
      },
      "source": [
        "\n",
        "# tabla de frecuencia \n",
        "pd.value_counts(df['Attrition_Flag'])"
      ],
      "execution_count": null,
      "outputs": [
        {
          "output_type": "execute_result",
          "data": {
            "text/plain": [
              "Existing Customer    8500\n",
              "Attrited Customer    1627\n",
              "Name: Attrition_Flag, dtype: int64"
            ]
          },
          "metadata": {},
          "execution_count": 33
        }
      ]
    },
    {
      "cell_type": "code",
      "metadata": {
        "colab": {
          "base_uri": "https://localhost:8080/",
          "height": 362
        },
        "id": "LPFUqey0D-Wr",
        "outputId": "284c13fd-08ae-48ac-ec39-bb46266e3e30"
      },
      "source": [
        "\n",
        "# Gráfico de barras de Attrition_Flag\n",
        "plot = df['Attrition_Flag'].value_counts().plot(kind='bar',\n",
        "                                            title='Attrition_Flag')"
      ],
      "execution_count": null,
      "outputs": [
        {
          "output_type": "display_data",
          "data": {
            "image/png": "[encoded data removed]",
            "text/plain": [
              "<Figure size 432x288 with 1 Axes>"
            ]
          },
          "metadata": {
            "needs_background": "light"
          }
        }
      ]
    },
    {
      "cell_type": "code",
      "metadata": {
        "colab": {
          "base_uri": "https://localhost:8080/",
          "height": 320
        },
        "id": "DU65bMNBFSk_",
        "outputId": "16cd80e5-d597-44f0-86f8-ca2fceb6e3be"
      },
      "source": [
        "# Tabla de contingencia class / survived\n",
        "pd.crosstab(index=df['Education_Level'],\n",
        "            columns=df['Attrition_Flag'], margins=True)"
      ],
      "execution_count": null,
      "outputs": [
        {
          "output_type": "execute_result",
          "data": {
            "text/html": [
              "<div>\n",
              "<style scoped>\n",
              "    .dataframe tbody tr th:only-of-type {\n",
              "        vertical-align: middle;\n",
              "    }\n",
              "\n",
              "    .dataframe tbody tr th {\n",
              "        vertical-align: top;\n",
              "    }\n",
              "\n",
              "    .dataframe thead th {\n",
              "        text-align: right;\n",
              "    }\n",
              "</style>\n",
              "<table border=\"1\" class=\"dataframe\">\n",
              "  <thead>\n",
              "    <tr style=\"text-align: right;\">\n",
              "      <th>Attrition_Flag</th>\n",
              "      <th>Attrited Customer</th>\n",
              "      <th>Existing Customer</th>\n",
              "      <th>All</th>\n",
              "    </tr>\n",
              "    <tr>\n",
              "      <th>Education_Level</th>\n",
              "      <th></th>\n",
              "      <th></th>\n",
              "      <th></th>\n",
              "    </tr>\n",
              "  </thead>\n",
              "  <tbody>\n",
              "    <tr>\n",
              "      <th>College</th>\n",
              "      <td>154</td>\n",
              "      <td>859</td>\n",
              "      <td>1013</td>\n",
              "    </tr>\n",
              "    <tr>\n",
              "      <th>Doctorate</th>\n",
              "      <td>95</td>\n",
              "      <td>356</td>\n",
              "      <td>451</td>\n",
              "    </tr>\n",
              "    <tr>\n",
              "      <th>Graduate</th>\n",
              "      <td>487</td>\n",
              "      <td>2641</td>\n",
              "      <td>3128</td>\n",
              "    </tr>\n",
              "    <tr>\n",
              "      <th>High School</th>\n",
              "      <td>306</td>\n",
              "      <td>1707</td>\n",
              "      <td>2013</td>\n",
              "    </tr>\n",
              "    <tr>\n",
              "      <th>Post-Graduate</th>\n",
              "      <td>92</td>\n",
              "      <td>424</td>\n",
              "      <td>516</td>\n",
              "    </tr>\n",
              "    <tr>\n",
              "      <th>Uneducated</th>\n",
              "      <td>237</td>\n",
              "      <td>1250</td>\n",
              "      <td>1487</td>\n",
              "    </tr>\n",
              "    <tr>\n",
              "      <th>Unknown</th>\n",
              "      <td>256</td>\n",
              "      <td>1263</td>\n",
              "      <td>1519</td>\n",
              "    </tr>\n",
              "    <tr>\n",
              "      <th>All</th>\n",
              "      <td>1627</td>\n",
              "      <td>8500</td>\n",
              "      <td>10127</td>\n",
              "    </tr>\n",
              "  </tbody>\n",
              "</table>\n",
              "</div>"
            ],
            "text/plain": [
              "Attrition_Flag   Attrited Customer  Existing Customer    All\n",
              "Education_Level                                             \n",
              "College                        154                859   1013\n",
              "Doctorate                       95                356    451\n",
              "Graduate                       487               2641   3128\n",
              "High School                    306               1707   2013\n",
              "Post-Graduate                   92                424    516\n",
              "Uneducated                     237               1250   1487\n",
              "Unknown                        256               1263   1519\n",
              "All                           1627               8500  10127"
            ]
          },
          "metadata": {},
          "execution_count": 37
        }
      ]
    },
    {
      "cell_type": "code",
      "metadata": {
        "colab": {
          "base_uri": "https://localhost:8080/",
          "height": 290
        },
        "id": "awjfaipsI83x",
        "outputId": "c6632f95-f599-4566-f7ce-2cb9917f77a3"
      },
      "source": [
        "# tabla de contingencia en porcentajes relativos total\n",
        "pd.crosstab(index=df['Education_Level'], columns=df['Attrition_Flag'],\n",
        "            ).apply(lambda r: r/r.sum() *100,\n",
        "                                axis=0)\n",
        "        "
      ],
      "execution_count": null,
      "outputs": [
        {
          "output_type": "execute_result",
          "data": {
            "text/html": [
              "<div>\n",
              "<style scoped>\n",
              "    .dataframe tbody tr th:only-of-type {\n",
              "        vertical-align: middle;\n",
              "    }\n",
              "\n",
              "    .dataframe tbody tr th {\n",
              "        vertical-align: top;\n",
              "    }\n",
              "\n",
              "    .dataframe thead th {\n",
              "        text-align: right;\n",
              "    }\n",
              "</style>\n",
              "<table border=\"1\" class=\"dataframe\">\n",
              "  <thead>\n",
              "    <tr style=\"text-align: right;\">\n",
              "      <th>Attrition_Flag</th>\n",
              "      <th>Attrited Customer</th>\n",
              "      <th>Existing Customer</th>\n",
              "    </tr>\n",
              "    <tr>\n",
              "      <th>Education_Level</th>\n",
              "      <th></th>\n",
              "      <th></th>\n",
              "    </tr>\n",
              "  </thead>\n",
              "  <tbody>\n",
              "    <tr>\n",
              "      <th>College</th>\n",
              "      <td>9.465274</td>\n",
              "      <td>10.105882</td>\n",
              "    </tr>\n",
              "    <tr>\n",
              "      <th>Doctorate</th>\n",
              "      <td>5.838967</td>\n",
              "      <td>4.188235</td>\n",
              "    </tr>\n",
              "    <tr>\n",
              "      <th>Graduate</th>\n",
              "      <td>29.932391</td>\n",
              "      <td>31.070588</td>\n",
              "    </tr>\n",
              "    <tr>\n",
              "      <th>High School</th>\n",
              "      <td>18.807621</td>\n",
              "      <td>20.082353</td>\n",
              "    </tr>\n",
              "    <tr>\n",
              "      <th>Post-Graduate</th>\n",
              "      <td>5.654579</td>\n",
              "      <td>4.988235</td>\n",
              "    </tr>\n",
              "    <tr>\n",
              "      <th>Uneducated</th>\n",
              "      <td>14.566687</td>\n",
              "      <td>14.705882</td>\n",
              "    </tr>\n",
              "    <tr>\n",
              "      <th>Unknown</th>\n",
              "      <td>15.734481</td>\n",
              "      <td>14.858824</td>\n",
              "    </tr>\n",
              "  </tbody>\n",
              "</table>\n",
              "</div>"
            ],
            "text/plain": [
              "Attrition_Flag   Attrited Customer  Existing Customer\n",
              "Education_Level                                      \n",
              "College                   9.465274          10.105882\n",
              "Doctorate                 5.838967           4.188235\n",
              "Graduate                 29.932391          31.070588\n",
              "High School              18.807621          20.082353\n",
              "Post-Graduate             5.654579           4.988235\n",
              "Uneducated               14.566687          14.705882\n",
              "Unknown                  15.734481          14.858824"
            ]
          },
          "metadata": {},
          "execution_count": 44
        }
      ]
    },
    {
      "cell_type": "code",
      "metadata": {
        "colab": {
          "base_uri": "https://localhost:8080/",
          "height": 230
        },
        "id": "ABkbVUJfHI74",
        "outputId": "f9a43181-fc92-4956-de72-4eb9cd99feba"
      },
      "source": [
        "pd.crosstab(index=df['Card_Category'],\n",
        "            columns=df['Attrition_Flag'], margins=True)"
      ],
      "execution_count": null,
      "outputs": [
        {
          "output_type": "execute_result",
          "data": {
            "text/html": [
              "<div>\n",
              "<style scoped>\n",
              "    .dataframe tbody tr th:only-of-type {\n",
              "        vertical-align: middle;\n",
              "    }\n",
              "\n",
              "    .dataframe tbody tr th {\n",
              "        vertical-align: top;\n",
              "    }\n",
              "\n",
              "    .dataframe thead th {\n",
              "        text-align: right;\n",
              "    }\n",
              "</style>\n",
              "<table border=\"1\" class=\"dataframe\">\n",
              "  <thead>\n",
              "    <tr style=\"text-align: right;\">\n",
              "      <th>Attrition_Flag</th>\n",
              "      <th>Attrited Customer</th>\n",
              "      <th>Existing Customer</th>\n",
              "      <th>All</th>\n",
              "    </tr>\n",
              "    <tr>\n",
              "      <th>Card_Category</th>\n",
              "      <th></th>\n",
              "      <th></th>\n",
              "      <th></th>\n",
              "    </tr>\n",
              "  </thead>\n",
              "  <tbody>\n",
              "    <tr>\n",
              "      <th>Blue</th>\n",
              "      <td>1519</td>\n",
              "      <td>7917</td>\n",
              "      <td>9436</td>\n",
              "    </tr>\n",
              "    <tr>\n",
              "      <th>Gold</th>\n",
              "      <td>21</td>\n",
              "      <td>95</td>\n",
              "      <td>116</td>\n",
              "    </tr>\n",
              "    <tr>\n",
              "      <th>Platinum</th>\n",
              "      <td>5</td>\n",
              "      <td>15</td>\n",
              "      <td>20</td>\n",
              "    </tr>\n",
              "    <tr>\n",
              "      <th>Silver</th>\n",
              "      <td>82</td>\n",
              "      <td>473</td>\n",
              "      <td>555</td>\n",
              "    </tr>\n",
              "    <tr>\n",
              "      <th>All</th>\n",
              "      <td>1627</td>\n",
              "      <td>8500</td>\n",
              "      <td>10127</td>\n",
              "    </tr>\n",
              "  </tbody>\n",
              "</table>\n",
              "</div>"
            ],
            "text/plain": [
              "Attrition_Flag  Attrited Customer  Existing Customer    All\n",
              "Card_Category                                              \n",
              "Blue                         1519               7917   9436\n",
              "Gold                           21                 95    116\n",
              "Platinum                        5                 15     20\n",
              "Silver                         82                473    555\n",
              "All                          1627               8500  10127"
            ]
          },
          "metadata": {},
          "execution_count": 38
        }
      ]
    },
    {
      "cell_type": "code",
      "metadata": {
        "colab": {
          "base_uri": "https://localhost:8080/",
          "height": 200
        },
        "id": "kwHhZ1HBKLVA",
        "outputId": "a9aceba0-3375-499b-e033-5c1fe0755bfd"
      },
      "source": [
        "# tabla de contingencia en porcentajes relativos total\n",
        "pd.crosstab(index=df['Card_Category'], columns=df['Attrition_Flag'],\n",
        "            ).apply(lambda r: r/r.sum() *100,\n",
        "                                axis=0)\n",
        "        "
      ],
      "execution_count": null,
      "outputs": [
        {
          "output_type": "execute_result",
          "data": {
            "text/html": [
              "<div>\n",
              "<style scoped>\n",
              "    .dataframe tbody tr th:only-of-type {\n",
              "        vertical-align: middle;\n",
              "    }\n",
              "\n",
              "    .dataframe tbody tr th {\n",
              "        vertical-align: top;\n",
              "    }\n",
              "\n",
              "    .dataframe thead th {\n",
              "        text-align: right;\n",
              "    }\n",
              "</style>\n",
              "<table border=\"1\" class=\"dataframe\">\n",
              "  <thead>\n",
              "    <tr style=\"text-align: right;\">\n",
              "      <th>Attrition_Flag</th>\n",
              "      <th>Attrited Customer</th>\n",
              "      <th>Existing Customer</th>\n",
              "    </tr>\n",
              "    <tr>\n",
              "      <th>Card_Category</th>\n",
              "      <th></th>\n",
              "      <th></th>\n",
              "    </tr>\n",
              "  </thead>\n",
              "  <tbody>\n",
              "    <tr>\n",
              "      <th>Blue</th>\n",
              "      <td>93.362016</td>\n",
              "      <td>93.141176</td>\n",
              "    </tr>\n",
              "    <tr>\n",
              "      <th>Gold</th>\n",
              "      <td>1.290719</td>\n",
              "      <td>1.117647</td>\n",
              "    </tr>\n",
              "    <tr>\n",
              "      <th>Platinum</th>\n",
              "      <td>0.307314</td>\n",
              "      <td>0.176471</td>\n",
              "    </tr>\n",
              "    <tr>\n",
              "      <th>Silver</th>\n",
              "      <td>5.039951</td>\n",
              "      <td>5.564706</td>\n",
              "    </tr>\n",
              "  </tbody>\n",
              "</table>\n",
              "</div>"
            ],
            "text/plain": [
              "Attrition_Flag  Attrited Customer  Existing Customer\n",
              "Card_Category                                       \n",
              "Blue                    93.362016          93.141176\n",
              "Gold                     1.290719           1.117647\n",
              "Platinum                 0.307314           0.176471\n",
              "Silver                   5.039951           5.564706"
            ]
          },
          "metadata": {},
          "execution_count": 45
        }
      ]
    },
    {
      "cell_type": "code",
      "metadata": {
        "colab": {
          "base_uri": "https://localhost:8080/",
          "height": 313
        },
        "id": "HQCzWpd7PwtW",
        "outputId": "92029799-bde0-4376-cd28-330c9ad2d277"
      },
      "source": [
        "# Gráfico de barras de sobreviviviente segun clase\n",
        "plot = pd.crosstab(index=df['Card_Category'],\n",
        "            columns=df['Attrition_Flag']).apply(lambda r: r/r.sum() *100,\n",
        "                                              axis=0).plot(kind='bar')"
      ],
      "execution_count": null,
      "outputs": [
        {
          "output_type": "display_data",
          "data": {
            "image/png": "[encoded data removed]",
            "text/plain": [
              "<Figure size 432x288 with 1 Axes>"
            ]
          },
          "metadata": {
            "needs_background": "light"
          }
        }
      ]
    },
    {
      "cell_type": "code",
      "metadata": {
        "colab": {
          "base_uri": "https://localhost:8080/",
          "height": 290
        },
        "id": "tGVimlFGHSt7",
        "outputId": "60c7672e-3147-496d-c9d5-9b450ea6e193"
      },
      "source": [
        "pd.crosstab(index=df['Income_Category'],\n",
        "            columns=df['Attrition_Flag'], margins=True)"
      ],
      "execution_count": null,
      "outputs": [
        {
          "output_type": "execute_result",
          "data": {
            "text/html": [
              "<div>\n",
              "<style scoped>\n",
              "    .dataframe tbody tr th:only-of-type {\n",
              "        vertical-align: middle;\n",
              "    }\n",
              "\n",
              "    .dataframe tbody tr th {\n",
              "        vertical-align: top;\n",
              "    }\n",
              "\n",
              "    .dataframe thead th {\n",
              "        text-align: right;\n",
              "    }\n",
              "</style>\n",
              "<table border=\"1\" class=\"dataframe\">\n",
              "  <thead>\n",
              "    <tr style=\"text-align: right;\">\n",
              "      <th>Attrition_Flag</th>\n",
              "      <th>Attrited Customer</th>\n",
              "      <th>Existing Customer</th>\n",
              "      <th>All</th>\n",
              "    </tr>\n",
              "    <tr>\n",
              "      <th>Income_Category</th>\n",
              "      <th></th>\n",
              "      <th></th>\n",
              "      <th></th>\n",
              "    </tr>\n",
              "  </thead>\n",
              "  <tbody>\n",
              "    <tr>\n",
              "      <th>$120K +</th>\n",
              "      <td>126</td>\n",
              "      <td>601</td>\n",
              "      <td>727</td>\n",
              "    </tr>\n",
              "    <tr>\n",
              "      <th>$40K - $60K</th>\n",
              "      <td>271</td>\n",
              "      <td>1519</td>\n",
              "      <td>1790</td>\n",
              "    </tr>\n",
              "    <tr>\n",
              "      <th>$60K - $80K</th>\n",
              "      <td>189</td>\n",
              "      <td>1213</td>\n",
              "      <td>1402</td>\n",
              "    </tr>\n",
              "    <tr>\n",
              "      <th>$80K - $120K</th>\n",
              "      <td>242</td>\n",
              "      <td>1293</td>\n",
              "      <td>1535</td>\n",
              "    </tr>\n",
              "    <tr>\n",
              "      <th>Less than $40K</th>\n",
              "      <td>612</td>\n",
              "      <td>2949</td>\n",
              "      <td>3561</td>\n",
              "    </tr>\n",
              "    <tr>\n",
              "      <th>Unknown</th>\n",
              "      <td>187</td>\n",
              "      <td>925</td>\n",
              "      <td>1112</td>\n",
              "    </tr>\n",
              "    <tr>\n",
              "      <th>All</th>\n",
              "      <td>1627</td>\n",
              "      <td>8500</td>\n",
              "      <td>10127</td>\n",
              "    </tr>\n",
              "  </tbody>\n",
              "</table>\n",
              "</div>"
            ],
            "text/plain": [
              "Attrition_Flag   Attrited Customer  Existing Customer    All\n",
              "Income_Category                                             \n",
              "$120K +                        126                601    727\n",
              "$40K - $60K                    271               1519   1790\n",
              "$60K - $80K                    189               1213   1402\n",
              "$80K - $120K                   242               1293   1535\n",
              "Less than $40K                 612               2949   3561\n",
              "Unknown                        187                925   1112\n",
              "All                           1627               8500  10127"
            ]
          },
          "metadata": {},
          "execution_count": 39
        }
      ]
    },
    {
      "cell_type": "code",
      "metadata": {
        "colab": {
          "base_uri": "https://localhost:8080/",
          "height": 290
        },
        "id": "FH72tgCclooW",
        "outputId": "c1612ced-f54e-406c-f5d9-01a1538cb8e7"
      },
      "source": [
        "pd.crosstab(index=df['Income_Category'],\n",
        "            columns=df['Card_Category'], margins=True)"
      ],
      "execution_count": null,
      "outputs": [
        {
          "output_type": "execute_result",
          "data": {
            "text/html": [
              "<div>\n",
              "<style scoped>\n",
              "    .dataframe tbody tr th:only-of-type {\n",
              "        vertical-align: middle;\n",
              "    }\n",
              "\n",
              "    .dataframe tbody tr th {\n",
              "        vertical-align: top;\n",
              "    }\n",
              "\n",
              "    .dataframe thead th {\n",
              "        text-align: right;\n",
              "    }\n",
              "</style>\n",
              "<table border=\"1\" class=\"dataframe\">\n",
              "  <thead>\n",
              "    <tr style=\"text-align: right;\">\n",
              "      <th>Card_Category</th>\n",
              "      <th>Blue</th>\n",
              "      <th>Gold</th>\n",
              "      <th>Platinum</th>\n",
              "      <th>Silver</th>\n",
              "      <th>All</th>\n",
              "    </tr>\n",
              "    <tr>\n",
              "      <th>Income_Category</th>\n",
              "      <th></th>\n",
              "      <th></th>\n",
              "      <th></th>\n",
              "      <th></th>\n",
              "      <th></th>\n",
              "    </tr>\n",
              "  </thead>\n",
              "  <tbody>\n",
              "    <tr>\n",
              "      <th>$120K +</th>\n",
              "      <td>645</td>\n",
              "      <td>18</td>\n",
              "      <td>4</td>\n",
              "      <td>60</td>\n",
              "      <td>727</td>\n",
              "    </tr>\n",
              "    <tr>\n",
              "      <th>$40K - $60K</th>\n",
              "      <td>1675</td>\n",
              "      <td>15</td>\n",
              "      <td>1</td>\n",
              "      <td>99</td>\n",
              "      <td>1790</td>\n",
              "    </tr>\n",
              "    <tr>\n",
              "      <th>$60K - $80K</th>\n",
              "      <td>1273</td>\n",
              "      <td>29</td>\n",
              "      <td>4</td>\n",
              "      <td>96</td>\n",
              "      <td>1402</td>\n",
              "    </tr>\n",
              "    <tr>\n",
              "      <th>$80K - $120K</th>\n",
              "      <td>1395</td>\n",
              "      <td>21</td>\n",
              "      <td>2</td>\n",
              "      <td>117</td>\n",
              "      <td>1535</td>\n",
              "    </tr>\n",
              "    <tr>\n",
              "      <th>Less than $40K</th>\n",
              "      <td>3403</td>\n",
              "      <td>24</td>\n",
              "      <td>4</td>\n",
              "      <td>130</td>\n",
              "      <td>3561</td>\n",
              "    </tr>\n",
              "    <tr>\n",
              "      <th>Unknown</th>\n",
              "      <td>1045</td>\n",
              "      <td>9</td>\n",
              "      <td>5</td>\n",
              "      <td>53</td>\n",
              "      <td>1112</td>\n",
              "    </tr>\n",
              "    <tr>\n",
              "      <th>All</th>\n",
              "      <td>9436</td>\n",
              "      <td>116</td>\n",
              "      <td>20</td>\n",
              "      <td>555</td>\n",
              "      <td>10127</td>\n",
              "    </tr>\n",
              "  </tbody>\n",
              "</table>\n",
              "</div>"
            ],
            "text/plain": [
              "Card_Category    Blue  Gold  Platinum  Silver    All\n",
              "Income_Category                                     \n",
              "$120K +           645    18         4      60    727\n",
              "$40K - $60K      1675    15         1      99   1790\n",
              "$60K - $80K      1273    29         4      96   1402\n",
              "$80K - $120K     1395    21         2     117   1535\n",
              "Less than $40K   3403    24         4     130   3561\n",
              "Unknown          1045     9         5      53   1112\n",
              "All              9436   116        20     555  10127"
            ]
          },
          "metadata": {},
          "execution_count": 5
        }
      ]
    },
    {
      "cell_type": "code",
      "metadata": {
        "colab": {
          "base_uri": "https://localhost:8080/",
          "height": 260
        },
        "id": "5QLTmntxKPyr",
        "outputId": "807459ed-a7fe-4aae-c9c3-797fc458a361"
      },
      "source": [
        "# tabla de contingencia en porcentajes relativos total\n",
        "pd.crosstab(index=df['Income_Category'], columns=df['Attrition_Flag'],\n",
        "            ).apply(lambda r: r/r.sum() *100,\n",
        "                                axis=0)\n",
        "        "
      ],
      "execution_count": null,
      "outputs": [
        {
          "output_type": "execute_result",
          "data": {
            "text/html": [
              "<div>\n",
              "<style scoped>\n",
              "    .dataframe tbody tr th:only-of-type {\n",
              "        vertical-align: middle;\n",
              "    }\n",
              "\n",
              "    .dataframe tbody tr th {\n",
              "        vertical-align: top;\n",
              "    }\n",
              "\n",
              "    .dataframe thead th {\n",
              "        text-align: right;\n",
              "    }\n",
              "</style>\n",
              "<table border=\"1\" class=\"dataframe\">\n",
              "  <thead>\n",
              "    <tr style=\"text-align: right;\">\n",
              "      <th>Attrition_Flag</th>\n",
              "      <th>Attrited Customer</th>\n",
              "      <th>Existing Customer</th>\n",
              "    </tr>\n",
              "    <tr>\n",
              "      <th>Income_Category</th>\n",
              "      <th></th>\n",
              "      <th></th>\n",
              "    </tr>\n",
              "  </thead>\n",
              "  <tbody>\n",
              "    <tr>\n",
              "      <th>$120K +</th>\n",
              "      <td>7.744315</td>\n",
              "      <td>7.070588</td>\n",
              "    </tr>\n",
              "    <tr>\n",
              "      <th>$40K - $60K</th>\n",
              "      <td>16.656423</td>\n",
              "      <td>17.870588</td>\n",
              "    </tr>\n",
              "    <tr>\n",
              "      <th>$60K - $80K</th>\n",
              "      <td>11.616472</td>\n",
              "      <td>14.270588</td>\n",
              "    </tr>\n",
              "    <tr>\n",
              "      <th>$80K - $120K</th>\n",
              "      <td>14.874001</td>\n",
              "      <td>15.211765</td>\n",
              "    </tr>\n",
              "    <tr>\n",
              "      <th>Less than $40K</th>\n",
              "      <td>37.615243</td>\n",
              "      <td>34.694118</td>\n",
              "    </tr>\n",
              "    <tr>\n",
              "      <th>Unknown</th>\n",
              "      <td>11.493546</td>\n",
              "      <td>10.882353</td>\n",
              "    </tr>\n",
              "  </tbody>\n",
              "</table>\n",
              "</div>"
            ],
            "text/plain": [
              "Attrition_Flag   Attrited Customer  Existing Customer\n",
              "Income_Category                                      \n",
              "$120K +                   7.744315           7.070588\n",
              "$40K - $60K              16.656423          17.870588\n",
              "$60K - $80K              11.616472          14.270588\n",
              "$80K - $120K             14.874001          15.211765\n",
              "Less than $40K           37.615243          34.694118\n",
              "Unknown                  11.493546          10.882353"
            ]
          },
          "metadata": {},
          "execution_count": 46
        }
      ]
    },
    {
      "cell_type": "code",
      "metadata": {
        "colab": {
          "base_uri": "https://localhost:8080/",
          "height": 347
        },
        "id": "ABiKm_YYPTkK",
        "outputId": "98385ae2-665c-4f5e-e20a-d23005ceef18"
      },
      "source": [
        "\n",
        "# Gráfico de barras de sobreviviviente segun clase\n",
        "plot = pd.crosstab(index=df['Income_Category'],\n",
        "            columns=df['Attrition_Flag']).apply(lambda r: r/r.sum() *100,\n",
        "                                              axis=0).plot(kind='bar')"
      ],
      "execution_count": null,
      "outputs": [
        {
          "output_type": "display_data",
          "data": {
            "image/png": "[encoded data removed]",
            "text/plain": [
              "<Figure size 432x288 with 1 Axes>"
            ]
          },
          "metadata": {
            "needs_background": "light"
          }
        }
      ]
    }
  ]
}